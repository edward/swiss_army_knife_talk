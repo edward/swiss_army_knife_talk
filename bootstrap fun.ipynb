{
 "metadata": {
  "name": "",
  "signature": "sha256:5df77651e6c25fba3a3e96cd8abe0d0d40bf99c98fbb3bf8ed01610ea18a121a"
 },
 "nbformat": 3,
 "nbformat_minor": 0,
 "worksheets": [
  {
   "cells": [
    {
     "cell_type": "code",
     "collapsed": false,
     "input": [
      "import pandas as pd\n",
      "import numpy as np\n",
      "%matplotlib inline"
     ],
     "language": "python",
     "metadata": {},
     "outputs": [],
     "prompt_number": 149
    },
    {
     "cell_type": "markdown",
     "metadata": {},
     "source": [
      "# Bootstrap confidence intervals\n",
      "\n",
      "Hey friends! I am on a plane to Puerto Rico right now. When is a better time to think about statistics?\n",
      "\n",
      "We'll start with a confession: I analyze data, and I rarely think about what the underlying distribution of my data is. When I tell my stats professor friend this, she kind of sighs, laughs, and says some combination of\n",
      "\n",
      "* \"oh, machine learning people...\"\n",
      "* \"well, you have a lot of data so it probably won't kill you\"\n",
      "* \"but be careful of {lots of things that could hurt you}!\"\n",
      "\n",
      "So let's talk about being careful! One way to be careful is, when you come up with a number, to build a confidence interval about how sure you are about that number. I think the normal way to do confidence intervals is that you use Actual Statistics and know what your distribution is. But we're not going to do that because I'm on a plane and I think that's frequentist stats and I cannot do any frequentist analysis without the internet.\n",
      "\n",
      "So, let's say I have some numbers like: 0, 1, 3, 2, 8, 2, 3, 4 describing the number of no-shows for flights from New York to Puerto Rico (like my friend who wasn't feeling well this morning and is not on the plane with me because of it which is REALLY SAD). And that I also have no idea what kind of distribution this number should have, but some Important Person is asking me how much it's okay to oversell the plane by.\n",
      "\n",
      "And let's say I think it's okay to have to kick people off the flight, say, 5% of the time. Great! Let's take the 5th percentile!"
     ]
    },
    {
     "cell_type": "code",
     "collapsed": false,
     "input": [
      "np.percentile([0, 1, 3, 2, 8, 2, 3, 4], 5)"
     ],
     "language": "python",
     "metadata": {},
     "outputs": [
      {
       "metadata": {},
       "output_type": "pyout",
       "prompt_number": 191,
       "text": [
        "0.35000000000000003"
       ]
      }
     ],
     "prompt_number": 191
    },
    {
     "cell_type": "markdown",
     "metadata": {},
     "source": [
      "Uh, great. the 5th percentile is there will be 0.35 people on the plane. This is a) not really something I can take to management, and b) I have no idea how much confidence I should have in that estimate, given that I only have 8 data points. And I have no distribution to use to reason about it.\n",
      "\n",
      "Maybe I *shouldn't* have switched to CS so I didn't have to take statistics (true story). Or alternatively maybe I can BOOTSTRAP MY WAY TO A CONFIDENCE INTERVAL.\n",
      "\n",
      "The way you bootstrap is to sample with replacement from your data. Here is some code to do that! `n_bootstraps` is intended to be a big number. I chose 10000 because this code is inefficient and I didn't want to wait more than a few seconds."
     ]
    },
    {
     "cell_type": "code",
     "collapsed": false,
     "input": [
      "def bootstrap_5th_percentile(data, n_bootstraps):\n",
      "    bootstraps = []\n",
      "    data = pd.Series(data)\n",
      "    n_samples = len(data)\n",
      "    for _ in xrange(n_bootstraps):\n",
      "        # This is an incantation that samples with replacement\n",
      "        samples = data.ix[np.random.randint(0, n_samples, n_samples)]\n",
      "        # Then we take the fifth percentile!\n",
      "        bootstraps.append(np.percentile(samples, 5))\n",
      "    return pd.Series(bootstraps)"
     ],
     "language": "python",
     "metadata": {},
     "outputs": [],
     "prompt_number": 209
    },
    {
     "cell_type": "code",
     "collapsed": false,
     "input": [
      "data = [0, 1, 3, 2, 8, 2, 3, 4]\n",
      "bootstraps = bootstrap_5th_percentile(data, 10000)"
     ],
     "language": "python",
     "metadata": {},
     "outputs": [],
     "prompt_number": 194
    },
    {
     "cell_type": "code",
     "collapsed": false,
     "input": [
      "bootstraps.hist()"
     ],
     "language": "python",
     "metadata": {},
     "outputs": [
      {
       "metadata": {},
       "output_type": "pyout",
       "prompt_number": 195,
       "text": [
        "<matplotlib.axes.AxesSubplot at 0x7f25740d2f50>"
       ]
      },
      {
       "metadata": {},
       "output_type": "display_data",
       "png": "[encoded data removed]",
       "text": [
        "<matplotlib.figure.Figure at 0x7f25744f18d0>"
       ]
      }
     ],
     "prompt_number": 195
    },
    {
     "cell_type": "raw",
     "metadata": {},
     "source": [
      "This is actually way more useful! It's telling me I can oversell by 0 - 2 people, and I don't have enough data to decide which one. I don't know if I'd take this graph to airline executives (everyone loves graphs right?!?!), but it's for sure more useful than just a 0.35.\n",
      "\n",
      "Thankfully in real life I would probably have more flights than just 8 to use to make this decision. Let's say I actually had, like, 1000! Let's start by generating some data:"
     ]
    },
    {
     "cell_type": "code",
     "collapsed": false,
     "input": [
      "data = np.random.normal(5, 2, 1000)\n",
      "data = np.round(data[data >= 0]).astype(int)"
     ],
     "language": "python",
     "metadata": {},
     "outputs": [
      {
       "metadata": {},
       "output_type": "pyout",
       "prompt_number": 211,
       "text": [
        "array([2, 5, 6, 4, 5, 5, 4, 5, 6, 6])"
       ]
      }
     ],
     "prompt_number": 211
    },
    {
     "cell_type": "markdown",
     "metadata": {},
     "source": [
      "Here's a histogram:"
     ]
    },
    {
     "cell_type": "code",
     "collapsed": false,
     "input": [
      "pd.Series(data).hist()"
     ],
     "language": "python",
     "metadata": {},
     "outputs": [
      {
       "metadata": {},
       "output_type": "pyout",
       "prompt_number": 218,
       "text": [
        "<matplotlib.axes.AxesSubplot at 0x7f257394a850>"
       ]
      },
      {
       "metadata": {},
       "output_type": "display_data",
       "png": "[encoded data removed]",
       "text": [
        "<matplotlib.figure.Figure at 0x7f2573948110>"
       ]
      }
     ],
     "prompt_number": 218
    },
    {
     "cell_type": "markdown",
     "metadata": {},
     "source": [
      "Now let's take the 5th percentile!"
     ]
    },
    {
     "cell_type": "code",
     "collapsed": false,
     "input": [
      "np.percentile(data, 5)"
     ],
     "language": "python",
     "metadata": {},
     "outputs": [
      {
       "metadata": {},
       "output_type": "pyout",
       "prompt_number": 212,
       "text": [
        "2.0"
       ]
      }
     ],
     "prompt_number": 212
    },
    {
     "cell_type": "markdown",
     "metadata": {},
     "source": [
      "Again, I don't really feel good about this number. How do I know I can trust this more than the 0.35 from before? Let's bootstrap it!"
     ]
    },
    {
     "cell_type": "code",
     "collapsed": false,
     "input": [
      "bootstraps = bootstrap_5th_percentile(data, 10000)\n",
      "bootstraps.value_counts().plot(kind='bar')"
     ],
     "language": "python",
     "metadata": {},
     "outputs": [
      {
       "metadata": {},
       "output_type": "pyout",
       "prompt_number": 215,
       "text": [
        "<matplotlib.axes.AxesSubplot at 0x7f2573b3ca90>"
       ]
      },
      {
       "metadata": {},
       "output_type": "display_data",
       "png": "[encoded data removed]",
       "text": [
        "<matplotlib.figure.Figure at 0x7f2573ac7250>"
       ]
      }
     ],
     "prompt_number": 215
    },
    {
     "cell_type": "markdown",
     "metadata": {},
     "source": [
      "Dude, I think it's telling me that the answer is 2.\n",
      "\n",
      "I still don't understand any of the math here, which makes me super uncomfortable. Obviously if I only have 1 data point, sampling with replacement isn't going to help me build a confidence interval. I understand that there's some theorem that "
     ]
    },
    {
     "cell_type": "code",
     "collapsed": false,
     "input": [],
     "language": "python",
     "metadata": {},
     "outputs": [
      {
       "metadata": {},
       "output_type": "pyout",
       "prompt_number": 217,
       "text": [
        "<matplotlib.axes.AxesSubplot at 0x7f257471d310>"
       ]
      },
      {
       "metadata": {},
       "output_type": "display_data",
       "png": "[encoded data removed]",
       "text": [
        "<matplotlib.figure.Figure at 0x7f2573a59d50>"
       ]
      }
     ],
     "prompt_number": 217
    }
   ],
   "metadata": {}
  }
 ]
}