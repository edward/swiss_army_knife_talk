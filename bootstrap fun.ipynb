{
 "metadata": {
  "name": "",
  "signature": "sha256:c0270e40dc98db507aaa5f749e8ef97b9c77c3e92950af36a39df4c696c06e39"
 },
 "nbformat": 3,
 "nbformat_minor": 0,
 "worksheets": [
  {
   "cells": [
    {
     "cell_type": "code",
     "collapsed": false,
     "input": [
      "import pandas as pd\n",
      "import numpy as np\n",
      "%matplotlib inline\n",
      "pd.set_option('display.mpl_style', 'default')"
     ],
     "language": "python",
     "metadata": {},
     "outputs": [],
     "prompt_number": 219
    },
    {
     "cell_type": "markdown",
     "metadata": {},
     "source": [
      "# Bootstrap confidence intervals\n",
      "\n",
      "Hey friends! I am on a plane to Puerto Rico right now. When is a better time to think about statistics?\n",
      "\n",
      "We'll start with a confession: I analyze data, and I rarely think about what the underlying distribution of my data is. When I tell my stats professor friend this, she kind of sighs, laughs, and says some combination of\n",
      "\n",
      "* \"oh, machine learning people...\"\n",
      "* \"well, you have a lot of data so it probably won't kill you\"\n",
      "* \"but be careful of {lots of things that could hurt you}!\"\n",
      "\n",
      "So let's talk about being careful! One way to be careful is, when you come up with a number, to build a confidence interval about how sure you are about that number. I think the normal way to do confidence intervals is that you use Actual Statistics and know what your distribution is. But we're not going to do that because I'm on a plane and I think that's frequentist stats and I cannot do any frequentist analysis without the internet.\n",
      "\n",
      "So, let's say I have some numbers like: 0, 1, 3, 2, 8, 2, 3, 4 describing the number of no-shows for flights from New York to Puerto Rico (like my friend who wasn't feeling well this morning and is not on the plane with me because of it which is REALLY SAD). And that I also have no idea what kind of distribution this number should have, but some Important Person is asking me how much it's okay to oversell the plane by.\n",
      "\n",
      "And let's say I think it's okay to have to kick people off the flight, say, 5% of the time. Great! Let's take the 5th percentile!"
     ]
    },
    {
     "cell_type": "code",
     "collapsed": false,
     "input": [
      "np.percentile([0, 1, 3, 2, 8, 2, 3, 4], 5)"
     ],
     "language": "python",
     "metadata": {},
     "outputs": [
      {
       "metadata": {},
       "output_type": "pyout",
       "prompt_number": 220,
       "text": [
        "0.35000000000000003"
       ]
      }
     ],
     "prompt_number": 220
    },
    {
     "cell_type": "markdown",
     "metadata": {},
     "source": [
      "Uh, great. the 5th percentile is there will be 0.35 people on the plane. This is a) not really something I can take to management, and b) I have no idea how much confidence I should have in that estimate, given that I only have 8 data points. And I have no distribution to use to reason about it.\n",
      "\n",
      "Maybe I *shouldn't* have switched to CS so I didn't have to take statistics (true story). Or alternatively maybe I can BOOTSTRAP MY WAY TO A CONFIDENCE INTERVAL.\n",
      "\n",
      "The way you bootstrap is to sample with replacement from your data. Here is some code to do that! `n_bootstraps` is intended to be a big number. I chose 10000 because this code is inefficient and I didn't want to wait more than a few seconds."
     ]
    },
    {
     "cell_type": "code",
     "collapsed": false,
     "input": [
      "def bootstrap_5th_percentile(data, n_bootstraps):\n",
      "    bootstraps = []\n",
      "    data = pd.Series(data)\n",
      "    n_samples = len(data)\n",
      "    for _ in xrange(n_bootstraps):\n",
      "        # This is an incantation that samples with replacement\n",
      "        samples = data.ix[np.random.randint(0, n_samples, n_samples)]\n",
      "        # Then we take the fifth percentile!\n",
      "        bootstraps.append(np.percentile(samples, 5))\n",
      "    return pd.Series(bootstraps)"
     ],
     "language": "python",
     "metadata": {},
     "outputs": [],
     "prompt_number": 221
    },
    {
     "cell_type": "code",
     "collapsed": false,
     "input": [
      "data = [0, 1, 3, 2, 8, 2, 3, 4]\n",
      "bootstraps = bootstrap_5th_percentile(data, 10000)"
     ],
     "language": "python",
     "metadata": {},
     "outputs": [],
     "prompt_number": 222
    },
    {
     "cell_type": "code",
     "collapsed": false,
     "input": [
      "bootstraps.hist()"
     ],
     "language": "python",
     "metadata": {},
     "outputs": [
      {
       "metadata": {},
       "output_type": "pyout",
       "prompt_number": 223,
       "text": [
        "<matplotlib.axes.AxesSubplot at 0x7f25738a4d10>"
       ]
      },
      {
       "output_type": "stream",
       "stream": "stderr",
       "text": [
        "/home/julia/.virtualenvs/topmodel/local/lib/python2.7/site-packages/matplotlib/font_manager.py:1236: UserWarning: findfont: Font family ['monospace'] not found. Falling back to Bitstream Vera Sans\n",
        "  (prop.get_family(), self.defaultFamily[fontext]))\n"
       ]
      },
      {
       "metadata": {},
       "output_type": "display_data",
       "png": "[encoded data removed]",
       "text": [
        "<matplotlib.figure.Figure at 0x7f2573a52d90>"
       ]
      }
     ],
     "prompt_number": 223
    },
    {
     "cell_type": "raw",
     "metadata": {},
     "source": [
      "This is actually way more useful! It's telling me I can oversell by 0 - 2 people, and I don't have enough data to decide which one. I don't know if I'd take this graph to airline executives (everyone loves graphs right?!?!), but it's for sure more useful than just a 0.35.\n",
      "\n",
      "Thankfully in real life I would probably have more flights than just 8 to use to make this decision. Let's say I actually had, like, 1000! Let's start by generating some data:"
     ]
    },
    {
     "cell_type": "code",
     "collapsed": false,
     "input": [
      "data = np.random.normal(5, 2, 1000)\n",
      "data = np.round(data[data >= 0]).astype(int)"
     ],
     "language": "python",
     "metadata": {},
     "outputs": [],
     "prompt_number": 224
    },
    {
     "cell_type": "markdown",
     "metadata": {},
     "source": [
      "Here's a histogram:"
     ]
    },
    {
     "cell_type": "code",
     "collapsed": false,
     "input": [
      "pd.Series(data).hist()"
     ],
     "language": "python",
     "metadata": {},
     "outputs": [
      {
       "metadata": {},
       "output_type": "pyout",
       "prompt_number": 225,
       "text": [
        "<matplotlib.axes.AxesSubplot at 0x7f2573c53810>"
       ]
      },
      {
       "metadata": {},
       "output_type": "display_data",
       "png": "[encoded data removed]",
       "text": [
        "<matplotlib.figure.Figure at 0x7f2573827890>"
       ]
      }
     ],
     "prompt_number": 225
    },
    {
     "cell_type": "markdown",
     "metadata": {},
     "source": [
      "Now let's take the 5th percentile!"
     ]
    },
    {
     "cell_type": "code",
     "collapsed": false,
     "input": [
      "np.percentile(data, 5)"
     ],
     "language": "python",
     "metadata": {},
     "outputs": [
      {
       "metadata": {},
       "output_type": "pyout",
       "prompt_number": 226,
       "text": [
        "2.0"
       ]
      }
     ],
     "prompt_number": 226
    },
    {
     "cell_type": "markdown",
     "metadata": {},
     "source": [
      "Again, I don't really feel good about this number. How do I know I can trust this more than the 0.35 from before? Let's bootstrap it!"
     ]
    },
    {
     "cell_type": "code",
     "collapsed": false,
     "input": [
      "bootstraps = bootstrap_5th_percentile(data, 10000)\n",
      "bootstraps.value_counts().sort_index().plot(kind='bar')"
     ],
     "language": "python",
     "metadata": {},
     "outputs": [
      {
       "metadata": {},
       "output_type": "pyout",
       "prompt_number": 229,
       "text": [
        "<matplotlib.axes.AxesSubplot at 0x7f25735ba7d0>"
       ]
      },
      {
       "metadata": {},
       "output_type": "display_data",
       "png": "[encoded data removed]",
       "text": [
        "<matplotlib.figure.Figure at 0x7f2573721650>"
       ]
      }
     ],
     "prompt_number": 229
    },
    {
     "cell_type": "markdown",
     "metadata": {},
     "source": [
      "I feel a little better about calling it at 2 here.\n",
      "\n",
      "## The math\n",
      "\n",
      "I have not explained ANY of the math behind why you should believe this is a reasonable approach, which if you are like me then you are super uncomfortable right now. For instance, obviously if I only have 1 data point, sampling with replacement isn't going to help me build a confidence interval. But what if I have 2 points, or 5? Why should you take these histograms I'm building seriously at all? And what's this business with not even caring about what distribution you're using?\n",
      "\n",
      "I needed to read about the math after I got off the plane because I didn't know any of it, but here we go:"
     ]
    },
    {
     "cell_type": "code",
     "collapsed": false,
     "input": [],
     "language": "python",
     "metadata": {},
     "outputs": []
    }
   ],
   "metadata": {}
  }
 ]
}